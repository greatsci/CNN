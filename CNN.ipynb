#123
{
  "nbformat": 4,
  "nbformat_minor": 0,
  "metadata": {
    "colab": {
      "name": "CNN.ipynb",
      "version": "0.3.2",
      "provenance": [],
      "include_colab_link": true
    },
    "kernelspec": {
      "name": "python3",
      "display_name": "Python 3"
    }
  },
  "cells": [
    {
      "cell_type": "markdown",
      "metadata": {
        "id": "view-in-github",
        "colab_type": "text"
      },
      "source": [
        "<a href=\"https://colab.research.google.com/github/greatsci/first/blob/master/CNN.ipynb\" target=\"_parent\"><img src=\"https://colab.research.google.com/assets/colab-badge.svg\" alt=\"Open In Colab\"/></a>"
      ]
    },
    {
      "metadata": {
        "id": "qaujqveQvc1c",
        "colab_type": "text"
      },
      "cell_type": "markdown",
      "source": [
        "# Description\n",
        "This algorithm applys Convolutional Neural Network with Keras to predict handwritten digits using mnist dataset.\n",
        "\n",
        "Ning Zhang 2019/03"
      ]
    },
    {
      "metadata": {
        "id": "cGDwZVhrdl1M",
        "colab_type": "code",
        "colab": {}
      },
      "cell_type": "code",
      "source": [
        "from keras.datasets import mnist\n",
        "#download mnist data and split into train and test sets\n",
        "(X_trainOrg, y_trainOrg), (X_testOrg, y_testOrg) = mnist.load_data()"
      ],
      "execution_count": 0,
      "outputs": []
    },
    {
      "metadata": {
        "id": "RRp_rnpWds0r",
        "colab_type": "code",
        "outputId": "694de1c0-cd42-40b3-c9de-4a2635520a44",
        "colab": {
          "base_uri": "https://localhost:8080/",
          "height": 364
        }
      },
      "cell_type": "code",
      "source": [
        "import matplotlib.pyplot as plt\n",
        "#plot the first image in the dataset\n",
        "plt.imshow(X_trainOrg[0])"
      ],
      "execution_count": 0,
      "outputs": [
        {
          "output_type": "execute_result",
          "data": {
            "text/plain": [
              "<matplotlib.image.AxesImage at 0x7f3db26684a8>"
            ]
          },
          "metadata": {
            "tags": []
          },
          "execution_count": 43
        },
        {
          "output_type": "display_data",
          "data": {
            "image/png": "[encoded data removed]",
            "text/plain": [
              "<Figure size 576x396 with 1 Axes>"
            ]
          },
          "metadata": {
            "tags": []
          }
        }
      ]
    },
    {
      "metadata": {
        "id": "NOrCdun5dvM6",
        "colab_type": "code",
        "outputId": "bd128a00-e4ce-43ef-9321-3fe4dce70a4a",
        "colab": {
          "base_uri": "https://localhost:8080/",
          "height": 33
        }
      },
      "cell_type": "code",
      "source": [
        "#check image shape\n",
        "X_trainOrg[0].shape"
      ],
      "execution_count": 0,
      "outputs": [
        {
          "output_type": "execute_result",
          "data": {
            "text/plain": [
              "(28, 28)"
            ]
          },
          "metadata": {
            "tags": []
          },
          "execution_count": 44
        }
      ]
    },
    {
      "metadata": {
        "id": "9tw6ePmSl6aH",
        "colab_type": "code",
        "outputId": "f1c24235-1b8c-4012-b5de-348eff4a82c0",
        "colab": {
          "base_uri": "https://localhost:8080/",
          "height": 33
        }
      },
      "cell_type": "code",
      "source": [
        "X_trainOrg.shape"
      ],
      "execution_count": 0,
      "outputs": [
        {
          "output_type": "execute_result",
          "data": {
            "text/plain": [
              "(60000, 28, 28)"
            ]
          },
          "metadata": {
            "tags": []
          },
          "execution_count": 45
        }
      ]
    },
    {
      "metadata": {
        "id": "WazI9sk5dxlK",
        "colab_type": "code",
        "colab": {}
      },
      "cell_type": "code",
      "source": [
        "#reshape data to fit model\n",
        "X_train = X_trainOrg.reshape(60000,28,28,1)\n",
        "X_test = X_testOrg.reshape(10000,28,28,1)"
      ],
      "execution_count": 0,
      "outputs": []
    },
    {
      "metadata": {
        "id": "_Z30RumNdzxn",
        "colab_type": "code",
        "outputId": "f4fdd5b7-aa95-48b1-c828-4f53bc692004",
        "colab": {
          "base_uri": "https://localhost:8080/",
          "height": 33
        }
      },
      "cell_type": "code",
      "source": [
        "from keras.utils import to_categorical\n",
        "#one-hot encode target column\n",
        "y_train = to_categorical(y_trainOrg)\n",
        "y_test = to_categorical(y_testOrg)\n",
        "y_train[0]"
      ],
      "execution_count": 0,
      "outputs": [
        {
          "output_type": "execute_result",
          "data": {
            "text/plain": [
              "array([0., 0., 0., 0., 0., 1., 0., 0., 0., 0.], dtype=float32)"
            ]
          },
          "metadata": {
            "tags": []
          },
          "execution_count": 47
        }
      ]
    },
    {
      "metadata": {
        "id": "4iQGVZ4dd176",
        "colab_type": "code",
        "colab": {}
      },
      "cell_type": "code",
      "source": [
        "from keras.models import Sequential\n",
        "from keras.layers import Dense, Conv2D, Flatten\n",
        "#create model\n",
        "model = Sequential()\n",
        "#add model layers\n",
        "model.add(Conv2D(64, kernel_size=3, activation='relu', input_shape=(28,28,1)))\n",
        "model.add(Conv2D(32, kernel_size=3, activation='relu'))\n",
        "model.add(Flatten())\n",
        "model.add(Dense(10, activation='softmax'))"
      ],
      "execution_count": 0,
      "outputs": []
    },
    {
      "metadata": {
        "id": "ksv_XJ7MeRHR",
        "colab_type": "code",
        "colab": {}
      },
      "cell_type": "code",
      "source": [
        "#compile model using accuracy to measure model performance\n",
        "model.compile(optimizer='adam', loss='categorical_crossentropy', metrics=['accuracy'])"
      ],
      "execution_count": 0,
      "outputs": []
    },
    {
      "metadata": {
        "id": "_Z9kznYOn8cB",
        "colab_type": "code",
        "outputId": "f462718e-ac46-42ff-8fa6-111ad134eb20",
        "colab": {
          "base_uri": "https://localhost:8080/",
          "height": 221
        }
      },
      "cell_type": "code",
      "source": [
        "#train the model\n",
        "model.fit(X_train, y_train, validation_data=(X_test, y_test), epochs=3)"
      ],
      "execution_count": 0,
      "outputs": [
        {
          "output_type": "stream",
          "text": [
            "WARNING:tensorflow:From /usr/local/lib/python3.6/dist-packages/tensorflow/python/ops/math_ops.py:3066: to_int32 (from tensorflow.python.ops.math_ops) is deprecated and will be removed in a future version.\n",
            "Instructions for updating:\n",
            "Use tf.cast instead.\n",
            "Train on 60000 samples, validate on 10000 samples\n",
            "Epoch 1/3\n",
            "60000/60000 [==============================] - 202s 3ms/step - loss: 0.5097 - acc: 0.9345 - val_loss: 0.0920 - val_acc: 0.9712\n",
            "Epoch 2/3\n",
            "60000/60000 [==============================] - 200s 3ms/step - loss: 0.0627 - acc: 0.9802 - val_loss: 0.0844 - val_acc: 0.9732\n",
            "Epoch 3/3\n",
            "60000/60000 [==============================] - 203s 3ms/step - loss: 0.0411 - acc: 0.9870 - val_loss: 0.0959 - val_acc: 0.9758\n"
          ],
          "name": "stdout"
        },
        {
          "output_type": "execute_result",
          "data": {
            "text/plain": [
              "<keras.callbacks.History at 0x7f3db26689b0>"
            ]
          },
          "metadata": {
            "tags": []
          },
          "execution_count": 52
        }
      ]
    },
    {
      "metadata": {
        "id": "qzsOWIPYeT-y",
        "colab_type": "code",
        "outputId": "cca4ef9d-b56f-47d6-96b1-16a7b7777518",
        "colab": {
          "base_uri": "https://localhost:8080/",
          "height": 217
        }
      },
      "cell_type": "code",
      "source": [
        "#predict first 4 images in the test set\n",
        "model.predict(X_test[:4])"
      ],
      "execution_count": 0,
      "outputs": [
        {
          "output_type": "execute_result",
          "data": {
            "text/plain": [
              "array([[1.30788047e-09, 5.02283041e-15, 1.67107331e-07, 4.71573094e-06,\n",
              "        7.10736113e-15, 3.36926979e-11, 9.43743887e-16, 9.99995112e-01,\n",
              "        8.12893930e-09, 1.11074150e-10],\n",
              "       [7.28872408e-07, 2.57862776e-09, 9.99998212e-01, 1.76735586e-08,\n",
              "        1.37060678e-13, 3.54721461e-12, 6.21606375e-08, 3.89282270e-12,\n",
              "        9.94741868e-07, 1.76809573e-14],\n",
              "       [5.52051858e-07, 9.98912692e-01, 1.70176263e-05, 3.42206654e-08,\n",
              "        5.76858438e-05, 1.97212489e-06, 9.90328203e-07, 3.64663455e-09,\n",
              "        1.00911094e-03, 1.13687095e-08],\n",
              "       [9.99997973e-01, 1.17621780e-11, 3.22084901e-08, 2.23409333e-10,\n",
              "        3.39704931e-09, 2.43122322e-09, 1.74093623e-06, 6.49106546e-10,\n",
              "        7.34393737e-08, 2.03313647e-07]], dtype=float32)"
            ]
          },
          "metadata": {
            "tags": []
          },
          "execution_count": 54
        }
      ]
    },
    {
      "metadata": {
        "id": "P_pTakJaeWbO",
        "colab_type": "code",
        "outputId": "e3294e4b-9754-46af-c3fd-64867d9c982e",
        "colab": {
          "base_uri": "https://localhost:8080/",
          "height": 84
        }
      },
      "cell_type": "code",
      "source": [
        "#actual results for first 4 images in test set\n",
        "y_test[:4]"
      ],
      "execution_count": 0,
      "outputs": [
        {
          "output_type": "execute_result",
          "data": {
            "text/plain": [
              "array([[0., 0., 0., 0., 0., 0., 0., 1., 0., 0.],\n",
              "       [0., 0., 1., 0., 0., 0., 0., 0., 0., 0.],\n",
              "       [0., 1., 0., 0., 0., 0., 0., 0., 0., 0.],\n",
              "       [1., 0., 0., 0., 0., 0., 0., 0., 0., 0.]], dtype=float32)"
            ]
          },
          "metadata": {
            "tags": []
          },
          "execution_count": 55
        }
      ]
    },
    {
      "metadata": {
        "id": "nO1BVezeegu3",
        "colab_type": "code",
        "outputId": "7b3e6343-5f06-48c0-9c87-6d1d226649e1",
        "colab": {
          "base_uri": "https://localhost:8080/",
          "height": 364
        }
      },
      "cell_type": "code",
      "source": [
        "#plot the first image in the dataset\n",
        "plt.imshow(X_testOrg[0])"
      ],
      "execution_count": 0,
      "outputs": [
        {
          "output_type": "execute_result",
          "data": {
            "text/plain": [
              "<matplotlib.image.AxesImage at 0x7f3db1f97358>"
            ]
          },
          "metadata": {
            "tags": []
          },
          "execution_count": 66
        },
        {
          "output_type": "display_data",
          "data": {
            "image/png": "[encoded data removed]",
            "text/plain": [
              "<Figure size 576x396 with 1 Axes>"
            ]
          },
          "metadata": {
            "tags": []
          }
        }
      ]
    }
  ]
}
